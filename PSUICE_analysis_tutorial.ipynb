{
 "cells": [
  {
   "cell_type": "markdown",
   "metadata": {},
   "source": [
    "# Welcome to the PSUICE_analysis tutorial\n",
    "### I'll show you how to use the PSUICE_analysis Python package to plot and analyze model results from the Penn State University ice sheet model (PSUICE). For information about the ice sheet model, see the list of references at the end of this notebook.\n",
    "\n",
    "\n",
    "### First, let's import some of the Python functions that we will need. Most of these are in the PSUICE_analysis module, but we want to be able to plot and play with data within this notebook, so we will need matplotlib and numpy."
   ]
  },
  {
   "cell_type": "code",
   "execution_count": 1,
   "metadata": {},
   "outputs": [],
   "source": [
    "import matplotlib.pyplot as plt\n",
    "import numpy as np\n",
    "import PSUICE_analysis\n",
    "%matplotlib inline"
   ]
  },
  {
   "cell_type": "markdown",
   "metadata": {},
   "source": [
    "### Now let's read all the data from the sample output file"
   ]
  },
  {
   "cell_type": "markdown",
   "metadata": {},
   "source": [
    "The function read_output takes the data from the netCDF file (which is a very powerful format, but not very user-friendly at first), and loads it into memory so we can play with it in Python."
   ]
  },
  {
   "cell_type": "code",
   "execution_count": 2,
   "metadata": {},
   "outputs": [],
   "source": [
    "outputFilePath = 'Ross_Sector_10kaToPresent.nc'\n",
    "\n",
    "modelOutput, modelVarsInfo = PSUICE_analysis.read_output(outputFilePath)"
   ]
  },
  {
   "cell_type": "markdown",
   "metadata": {},
   "source": [
    "Now let's see what variables we have to work with. The function read_output puts all the data into a Python dictionary called modelOutput, and information about the variables into a dictionary of dictionaries (yes, nested dictionaries) called modelVarsInfo. "
   ]
  },
  {
   "cell_type": "code",
   "execution_count": 3,
   "metadata": {},
   "outputs": [
    {
     "name": "stdout",
     "output_type": "stream",
     "text": [
      "Variable          Type      Data/Info\n",
      "-------------------------------------\n",
      "PSUICE_analysis   module    <module 'PSUICE_analysis'<...>ysis/PSUICE_analysis.py'>\n",
      "modelOutput       dict      n=61\n",
      "modelVarsInfo     dict      n=61\n",
      "np                module    <module 'numpy' from '/Us<...>kages/numpy/__init__.py'>\n",
      "outputFilePath    str       Ross_Sector_10kaToPresent.nc\n",
      "plt               module    <module 'matplotlib.pyplo<...>es/matplotlib/pyplot.py'>\n"
     ]
    }
   ],
   "source": [
    "%whos"
   ]
  },
  {
   "cell_type": "markdown",
   "metadata": {},
   "source": [
    "Above, we see that we have the numpy, matplotlib.pyplot, and PSUICE_analysis packages loaded, as well as the path to our model output file (outputFilePath), and the two dictionaries modelOutput and modelVarsInfo. You can access the data in the dictionary using modelOutput[variable_name]. Let's look at all the variables within modelOutput."
   ]
  },
  {
   "cell_type": "code",
   "execution_count": 4,
   "metadata": {},
   "outputs": [
    {
     "name": "stdout",
     "output_type": "stream",
     "text": [
      "dict_keys(['alatd', 'alond', 'basefrml', 'baseperc', 'budgall', 'budgmelt', 'budgrain', 'budgsnow', 'calvice', 'calviceav', 'cliffmelt', 'cliffmeltav', 'darea', 'deflect', 'dgeoid', 'enhanceinv', 'facemelt', 'facemeltav', 'fedge', 'fluxsch', 'fract', 'geoflux', 'h', 'hb', 'hbsd', 'hs', 'logcrhmel', 'maskwater', 'msector', 'oceanmelt', 'oceanmeltav', 'runfrozav', 'runliqav', 'sealev', 'tamax', 'tb', 'tbhomol', 'thickwarm', 'time', 'topbedeq', 'tota', 'totaf', 'totag', 'toti', 'totif', 'totig', 'ts', 'ua', 'ubot', 'utop', 'va', 'vbot', 'vershis', 'vtop', 'wab', 'was', 'x0', 'x1', 'y0', 'y1', 'z'])\n"
     ]
    }
   ],
   "source": [
    "print(modelOutput.keys())"
   ]
  },
  {
   "cell_type": "markdown",
   "metadata": {},
   "source": [
    "As you can see, we have a lot of variables to play with. But it's not always obvious what each of these represents. For instance, what could 'tbhomol' possible mean? And 'facemelt'?! What are the units of these variables? As I said above, there is a dictionary of dictionaries called modelVarsInfo that contains explanations. You can see what information is available like this:"
   ]
  },
  {
   "cell_type": "code",
   "execution_count": 5,
   "metadata": {},
   "outputs": [
    {
     "data": {
      "text/plain": [
       "dict_keys(['longName', 'units', 'dimensions', 'shape'])"
      ]
     },
     "execution_count": 5,
     "metadata": {},
     "output_type": "execute_result"
    }
   ],
   "source": [
    "modelVarsInfo['tbhomol'].keys()"
   ]
  },
  {
   "cell_type": "markdown",
   "metadata": {},
   "source": [
    "Let's see what the units of tbhomol are."
   ]
  },
  {
   "cell_type": "code",
   "execution_count": 6,
   "metadata": {},
   "outputs": [
    {
     "data": {
      "text/plain": [
       "'C'"
      ]
     },
     "execution_count": 6,
     "metadata": {},
     "output_type": "execute_result"
    }
   ],
   "source": [
    "modelVarsInfo['tbhomol']['units']"
   ]
  },
  {
   "cell_type": "markdown",
   "metadata": {},
   "source": [
    "Looks like tbhomol is in degrees C. Instead of doing this for each individual attribute of each variable, let's just use the get_variable_info function to print info about a few of them."
   ]
  },
  {
   "cell_type": "code",
   "execution_count": 7,
   "metadata": {},
   "outputs": [
    {
     "name": "stdout",
     "output_type": "stream",
     "text": [
      "Info for variable tbhomol:\n",
      "Description: basal homologous temperature\n",
      "Units: C\n",
      "Dimensions: ('time', 'y1', 'x1')\n",
      "Shape:(25, 170, 125)\n",
      "\n",
      "\n",
      "Info for variable facemelt:\n",
      "Description: facemelt rate\n",
      "Units: m/y\n",
      "Dimensions: ('time', 'y1', 'x1')\n",
      "Shape:(25, 170, 125)\n",
      "\n",
      "\n",
      "Info for variable x1:\n",
      "Description: x coordinate, h,v-grids\n",
      "Units: km\n",
      "Dimensions: ('x1',)\n",
      "Shape:(125,)\n",
      "\n",
      "\n",
      "Info for variable va:\n",
      "Description: average ice y-velocity\n",
      "Units: m/y\n",
      "Dimensions: ('time', 'y0', 'x1')\n",
      "Shape:(25, 170, 125)\n",
      "\n",
      "\n",
      "Info for variable ua:\n",
      "Description: average ice x-velocity\n",
      "Units: m/y\n",
      "Dimensions: ('time', 'y1', 'x0')\n",
      "Shape:(25, 170, 125)\n",
      "\n",
      "\n"
     ]
    }
   ],
   "source": [
    "PSUICE_analysis.get_variable_info(modelVarsInfo, ['tbhomol', 'facemelt', 'x1', 'va', 'ua'])"
   ]
  },
  {
   "cell_type": "markdown",
   "metadata": {},
   "source": [
    "## Plotting timeseries"
   ]
  },
  {
   "cell_type": "markdown",
   "metadata": {},
   "source": [
    "### Timeseries of 2D variables\n",
    "Okay, we're all ready to begin plotting up the data! Let's first look at a simple case. Say you want to plot handful of timeseries variables like totig (total grounded ice volume), totag (total grounded ice area), and sea level."
   ]
  },
  {
   "cell_type": "code",
   "execution_count": 8,
   "metadata": {},
   "outputs": [
    {
     "data": {
      "image/png": "[encoded data removed]",
      "text/plain": [
       "<Figure size 432x288 with 3 Axes>"
      ]
     },
     "metadata": {
      "needs_background": "light"
     },
     "output_type": "display_data"
    }
   ],
   "source": [
    "PSUICE_analysis.plot_timeseries(modelOutput, modelVarsInfo, ['totig', 'totag', 'sealev'])"
   ]
  },
  {
   "cell_type": "markdown",
   "metadata": {},
   "source": [
    "### Timeseries of 3D variables\n",
    "We can also plot a time series of an output field at a single point using the timeseriesAtPoint function. This uses bilinear or cubic interpolation (you choose) to return an interpolated model output field at any point you give it (i.e., the point does not have to exactly coincide with a model grid point). Let's plot two timeseries: ice thickness and bed elevation.\n",
    "Note: Often there is no significant difference between bicubic and bilinear interpolation, but sometimes one will fail. bilinear is the default, but don't forget to try bicubic interpolation if you are getting bad results."
   ]
  },
  {
   "cell_type": "code",
   "execution_count": 9,
   "metadata": {},
   "outputs": [
    {
     "data": {
      "image/png": "[encoded data removed]",
      "text/plain": [
       "<Figure size 432x288 with 2 Axes>"
      ]
     },
     "metadata": {
      "needs_background": "light"
     },
     "output_type": "display_data"
    }
   ],
   "source": [
    "# Create new figure with two subplot axes\n",
    "timeseriesFig, timeseriesAx = plt.subplots(1,2)\n",
    "\n",
    "# Plot a timseries of ice thickness on the first axes at 200,-1100 km, using linear interpolation\n",
    "hInterp = PSUICE_analysis.timeseriesAtPoint(modelOutput, modelVarsInfo, varName='h', \n",
    "                                            x=200, y=-1100, ax=timeseriesAx[0], interpMethod='linear')\n",
    "                                            \n",
    "# Plot a timseries of bed topography on the first axes at 200,-1100 km, using cubic interpolation\n",
    "hbInterp = PSUICE_analysis.timeseriesAtPoint(modelOutput, modelVarsInfo, varName='hb', \n",
    "                                            x=200, y=-1100, ax=timeseriesAx[1], interpMethod='cubic')\n",
    "\n",
    "# Adjust plot spacing and add grids\n",
    "timeseriesFig.subplots_adjust(wspace=0.5)\n",
    "timeseriesAx[0].grid()\n",
    "timeseriesAx[1].grid()\n"
   ]
  },
  {
   "cell_type": "markdown",
   "metadata": {},
   "source": [
    "## Plotting maps of model output"
   ]
  },
  {
   "cell_type": "markdown",
   "metadata": {},
   "source": [
    "Often we will want to plot maps of a model output field. This is more complicated because we are dealing with data that vary in both time and space. The function plot_maps will plot the desired output field at the desired time. You can specify either a time level (e.g., the 12th output time), or a model time (e.g., 10000 years ago). Model time in the past is negative; future is positive. If the model time you enter is not available, the function plots up the closest available time. If no time is specified, the function plots the last timelevel in modelOutput.\n",
    "\n",
    "The plot_maps function uses matplotlib colormaps. See here for choices: https://matplotlib.org/3.1.1/tutorials/colors/colormaps.html"
   ]
  },
  {
   "cell_type": "code",
   "execution_count": 10,
   "metadata": {},
   "outputs": [
    {
     "ename": "NameError",
     "evalue": "name 'modelTime' is not defined",
     "output_type": "error",
     "traceback": [
      "\u001b[0;31m---------------------------------------------------------------------------\u001b[0m",
      "\u001b[0;31mNameError\u001b[0m                                 Traceback (most recent call last)",
      "\u001b[0;32m<ipython-input-10-bead2d5b6e4c>\u001b[0m in \u001b[0;36m<module>\u001b[0;34m\u001b[0m\n\u001b[1;32m      1\u001b[0m \u001b[0;31m# Plot ice thickness at the 5th time level, only where ice exists\u001b[0m\u001b[0;34m\u001b[0m\u001b[0;34m\u001b[0m\u001b[0;34m\u001b[0m\u001b[0m\n\u001b[0;32m----> 2\u001b[0;31m \u001b[0mPSUICE_analysis\u001b[0m\u001b[0;34m.\u001b[0m\u001b[0mplot_maps\u001b[0m\u001b[0;34m(\u001b[0m\u001b[0mmodelOutput\u001b[0m\u001b[0;34m,\u001b[0m \u001b[0mmodelVarsInfo\u001b[0m\u001b[0;34m,\u001b[0m \u001b[0mvarName\u001b[0m\u001b[0;34m=\u001b[0m\u001b[0;34m'h'\u001b[0m\u001b[0;34m,\u001b[0m \u001b[0mcmap\u001b[0m\u001b[0;34m=\u001b[0m\u001b[0;34m'Blues_r'\u001b[0m\u001b[0;34m,\u001b[0m \u001b[0mtimeLevel\u001b[0m\u001b[0;34m=\u001b[0m\u001b[0;36m5\u001b[0m\u001b[0;34m,\u001b[0m \u001b[0mmaskIce\u001b[0m\u001b[0;34m=\u001b[0m\u001b[0;32mTrue\u001b[0m\u001b[0;34m)\u001b[0m\u001b[0;34m\u001b[0m\u001b[0;34m\u001b[0m\u001b[0m\n\u001b[0m\u001b[1;32m      3\u001b[0m \u001b[0;34m\u001b[0m\u001b[0m\n\u001b[1;32m      4\u001b[0m \u001b[0;31m# Plot ice thickness at the second-to-last time level, only where ice exists\u001b[0m\u001b[0;34m\u001b[0m\u001b[0;34m\u001b[0m\u001b[0;34m\u001b[0m\u001b[0m\n\u001b[1;32m      5\u001b[0m \u001b[0mPSUICE_analysis\u001b[0m\u001b[0;34m.\u001b[0m\u001b[0mplot_maps\u001b[0m\u001b[0;34m(\u001b[0m\u001b[0mmodelOutput\u001b[0m\u001b[0;34m,\u001b[0m \u001b[0mmodelVarsInfo\u001b[0m\u001b[0;34m,\u001b[0m \u001b[0mvarName\u001b[0m\u001b[0;34m=\u001b[0m\u001b[0;34m'h'\u001b[0m\u001b[0;34m,\u001b[0m \u001b[0mcmap\u001b[0m\u001b[0;34m=\u001b[0m\u001b[0;34m'Blues_r'\u001b[0m\u001b[0;34m,\u001b[0m \u001b[0mtimeLevel\u001b[0m\u001b[0;34m=\u001b[0m\u001b[0;34m-\u001b[0m\u001b[0;36m2\u001b[0m\u001b[0;34m,\u001b[0m \u001b[0mmaskIce\u001b[0m\u001b[0;34m=\u001b[0m\u001b[0;32mTrue\u001b[0m\u001b[0;34m)\u001b[0m\u001b[0;34m\u001b[0m\u001b[0;34m\u001b[0m\u001b[0m\n",
      "\u001b[0;32m~/Documents/PSUICE/PSUICE_analysis/PSUICE_analysis.py\u001b[0m in \u001b[0;36mplot_maps\u001b[0;34m(modelOutput, modelVarsInfo, varName, timeLevel, logScale, cmap, maskIce, vmin, vmax)\u001b[0m\n\u001b[1;32m    151\u001b[0m \u001b[0;34m\u001b[0m\u001b[0m\n\u001b[1;32m    152\u001b[0m     \u001b[0;31m# Get appropriate time level\u001b[0m\u001b[0;34m\u001b[0m\u001b[0;34m\u001b[0m\u001b[0;34m\u001b[0m\u001b[0m\n\u001b[0;32m--> 153\u001b[0;31m     \u001b[0;32mif\u001b[0m \u001b[0mmodelTime\u001b[0m \u001b[0;32mis\u001b[0m \u001b[0;32mnot\u001b[0m \u001b[0;32mNone\u001b[0m\u001b[0;34m:\u001b[0m\u001b[0;34m\u001b[0m\u001b[0;34m\u001b[0m\u001b[0m\n\u001b[0m\u001b[1;32m    154\u001b[0m         \u001b[0mtimeBool\u001b[0m \u001b[0;34m=\u001b[0m \u001b[0;34m(\u001b[0m\u001b[0mabs\u001b[0m\u001b[0;34m(\u001b[0m\u001b[0mmodelTime\u001b[0m\u001b[0;34m-\u001b[0m\u001b[0mmodelOutput\u001b[0m\u001b[0;34m[\u001b[0m\u001b[0;34m'time'\u001b[0m\u001b[0;34m]\u001b[0m\u001b[0;34m)\u001b[0m \u001b[0;34m==\u001b[0m \u001b[0mnp\u001b[0m\u001b[0;34m.\u001b[0m\u001b[0mmin\u001b[0m\u001b[0;34m(\u001b[0m\u001b[0mnp\u001b[0m\u001b[0;34m.\u001b[0m\u001b[0mabs\u001b[0m\u001b[0;34m(\u001b[0m\u001b[0mmodelTime\u001b[0m\u001b[0;34m-\u001b[0m\u001b[0mmodelOutput\u001b[0m\u001b[0;34m[\u001b[0m\u001b[0;34m'time'\u001b[0m\u001b[0;34m]\u001b[0m\u001b[0;34m)\u001b[0m\u001b[0;34m)\u001b[0m\u001b[0;34m)\u001b[0m \u001b[0;31m# boolean array\u001b[0m\u001b[0;34m\u001b[0m\u001b[0;34m\u001b[0m\u001b[0m\n\u001b[1;32m    155\u001b[0m         \u001b[0mtimeLevel\u001b[0m \u001b[0;34m=\u001b[0m \u001b[0;34m[\u001b[0m\u001b[0mi\u001b[0m \u001b[0;32mfor\u001b[0m \u001b[0mi\u001b[0m\u001b[0;34m,\u001b[0m \u001b[0mval\u001b[0m \u001b[0;32min\u001b[0m \u001b[0menumerate\u001b[0m\u001b[0;34m(\u001b[0m\u001b[0mtimeBool\u001b[0m\u001b[0;34m)\u001b[0m \u001b[0;32mif\u001b[0m \u001b[0mval\u001b[0m\u001b[0;34m]\u001b[0m \u001b[0;31m# Get index of True in timeBool\u001b[0m\u001b[0;34m\u001b[0m\u001b[0;34m\u001b[0m\u001b[0m\n",
      "\u001b[0;31mNameError\u001b[0m: name 'modelTime' is not defined"
     ]
    }
   ],
   "source": [
    "# Plot ice thickness at the 5th time level, only where ice exists\n",
    "PSUICE_analysis.plot_maps(modelOutput, modelVarsInfo, varName='h', cmap='Blues_r', timeLevel=5, maskIce=True)\n",
    "\n",
    "# Plot ice thickness at the second-to-last time level, only where ice exists\n",
    "PSUICE_analysis.plot_maps(modelOutput, modelVarsInfo, varName='h', cmap='Blues_r', timeLevel=-2, maskIce=True)\n",
    "\n",
    "# Plot bed topography at the 5th time level, everywhere in domain, and set colorbar range to (-1500, 1500)\n",
    "PSUICE_analysis.plot_maps(modelOutput, modelVarsInfo, varName='hb', cmap='RdGy_r', \n",
    "                          vmin=-1500, vmax=1500, timeLevel=5, maskIce=False)"
   ]
  },
  {
   "cell_type": "markdown",
   "metadata": {},
   "source": [
    "## Calculate velocity field\n",
    "Unfortunately for us map-plotters, the PSU ice sheet model calculates x and y velocity components on separate grids. \n",
    "(This is for reasons of numerical accuracy, see Pollard and Deconto (2012) for more information if you are interested.) That makes it hard to plot velocity on a map. Fortunately, there is PSUICE_analysis tool called regrid_velocity that will put the velocity fields on the same grid as ice thickness (h). This is not called automatically in read_output because it can slow things down for large files due to looping through time-levels. but when you want those fields, simply call that function to calculate and add those to your modelOutput and modelVarsInfo dictionaries:"
   ]
  },
  {
   "cell_type": "code",
   "execution_count": null,
   "metadata": {},
   "outputs": [],
   "source": [
    "modelOutput, modelVarsInfo = PSUICE_analysis.regrid_velocity(modelOutput, modelVarsInfo)\n",
    "PSUICE_analysis.get_variable_info(modelVarsInfo, ['surfaceSpeed', 'depthAvgSpeed', 'basalSpeed'])"
   ]
  },
  {
   "cell_type": "markdown",
   "metadata": {},
   "source": [
    "The regrid_velocity function calls another, more general function called regrid_data. You can use that if you have other fields you want to interpolate. For now, you probably won't need to.\n",
    "\n",
    "Now let's use those new velocity variables to make a few maps!"
   ]
  },
  {
   "cell_type": "code",
   "execution_count": null,
   "metadata": {
    "scrolled": true
   },
   "outputs": [],
   "source": [
    "# Plot surfaceSpeed on log scale from 10^-2 to 10^3.5\n",
    "vmin=-2\n",
    "vmax=3.5\n",
    "PSUICE_analysis.plot_maps(modelOutput, modelVarsInfo, varName='surfaceSpeed',\n",
    "                          logScale=True, cmap='cividis', timeLevel=5, vmin=vmin, vmax=vmax)\n",
    "fig, ax = PSUICE_analysis.plot_maps(modelOutput, modelVarsInfo, varName='surfaceSpeed',\n",
    "                                    logScale=True, cmap='cividis', timeLevel=-2, vmin=vmin, vmax=vmax)"
   ]
  },
  {
   "cell_type": "markdown",
   "metadata": {},
   "source": [
    "Now what if we wanted to plot a single flowline (or a bunch?!) on top of maps of ice velocity (or any other field)? Use the flowline function!"
   ]
  },
  {
   "cell_type": "code",
   "execution_count": null,
   "metadata": {},
   "outputs": [],
   "source": [
    "timeLev= -1 #Choose time level you want to plot. Let's plot the last one.\n",
    "\n",
    "flowlineX1, flowlineY1 = PSUICE_analysis.flowline(modelOutput, -85000, -1140000, timeLevel=timeLev, max_iter = 1e5)\n",
    "flowlineX2, flowlineY2 = PSUICE_analysis.flowline(modelOutput, -275000, -1000000, timeLevel=timeLev, max_iter = 1e5)\n",
    "flowlineX3, flowlineY3 = PSUICE_analysis.flowline(modelOutput, 275000, -1000000, timeLevel=timeLev, max_iter = 1e5)\n",
    "flowlineX4, flowlineY4 = PSUICE_analysis.flowline(modelOutput, 376293,  -1043559, timeLevel=timeLev, max_iter = 1e5)"
   ]
  },
  {
   "cell_type": "markdown",
   "metadata": {},
   "source": [
    "Now we can plot all of these on the axes we created above"
   ]
  },
  {
   "cell_type": "code",
   "execution_count": null,
   "metadata": {},
   "outputs": [],
   "source": [
    "ax.scatter(flowlineX1/1000., flowlineY1/1000.)\n",
    "ax.scatter(flowlineX2/1000., flowlineY2/1000.)\n",
    "ax.scatter(flowlineX3/1000., flowlineY3/1000.)\n",
    "ax.scatter(flowlineX4/1000., flowlineY4/1000.)\n",
    "\n"
   ]
  },
  {
   "cell_type": "markdown",
   "metadata": {},
   "source": [
    "Now let's also plot the grounding line and vectors of the entire velocity field on this map. "
   ]
  },
  {
   "cell_type": "code",
   "execution_count": null,
   "metadata": {},
   "outputs": [],
   "source": [
    "# plot grounding line in black\n",
    "PSUICE_analysis.plot_groundingLine(modelOutput, ax=ax, timeLevel=timeLev, color='black')\n",
    "\n",
    "# plot velocity field vectors\n",
    "PSUICE_analysis.plot_velocityVectors(modelOutput, modelVarsInfo, ax=ax, \n",
    "                                     varNames=['ua', 'va'], timeLevel=timeLev)\n",
    "\n",
    "# Show the new figure\n",
    "fig"
   ]
  },
  {
   "cell_type": "markdown",
   "metadata": {},
   "source": [
    "We can also plot transects of any output fields we like along these flowlines (or any other specified path). Let's plot ice top and bottom surfaces, bed topography, and surface speed along one of these flowlines. Let's choose flowline4 from above, which is the furthest to the right."
   ]
  },
  {
   "cell_type": "code",
   "execution_count": null,
   "metadata": {
    "scrolled": true
   },
   "outputs": [],
   "source": [
    "# Create new figure with two subplot axes.\n",
    "fig2, [ax21, ax22] = plt.subplots(2,1)\n",
    "\n",
    "# Plot the ice surface\n",
    "hsTransect, distance = PSUICE_analysis.plot_transect(modelOutput, modelVarsInfo, \n",
    "                                                     'hs', ax21, timeLevel=timeLev, \n",
    "                                                     transectX=flowlineX4/1000, transectY=flowlineY4/1000, \n",
    "                                                     method='linear',color='tab:blue')\n",
    "# Get ice thickness, but do not plot it (ax=None).\n",
    "hTransect, distance = PSUICE_analysis.plot_transect(modelOutput, modelVarsInfo, \n",
    "                                                    'h', ax=None, timeLevel=timeLev, transectX=flowlineX4/1000, \n",
    "                                                    transectY=flowlineY4/1000, method='linear',color='blue')\n",
    "\n",
    "# Plot the bottom ice surface as well, which is just the surface elevation minus the ice thickness\n",
    "ax21.plot(distance, hsTransect - hTransect, c='tab:blue')\n",
    "\n",
    "# Plot bed topography\n",
    "hbTransect, distance = PSUICE_analysis.plot_transect(modelOutput, modelVarsInfo, 'hb', \n",
    "                                                     ax21, timeLevel=timeLev, transectX=flowlineX4/1000,\n",
    "                                                     transectY=flowlineY4/1000, method='linear',color='brown')\n",
    "\n",
    "# Plot the surface speed on the second subplot axes.\n",
    "speedTransect, distance = PSUICE_analysis.plot_transect(modelOutput, modelVarsInfo, \n",
    "                                                        'surfaceSpeed', ax22, timeLevel=timeLev, \n",
    "                                                        transectX=flowlineX4/1000, transectY=flowlineY4/1000, \n",
    "                                                        method='linear', color='tab:pink')\n",
    "\n",
    "# Now make the plots more presentable.\n",
    "fig2.subplots_adjust(hspace=0.5)\n",
    "ax21.set_xlabel('Distance (km)')\n",
    "ax21.set_ylabel('Elevation (m)')\n",
    "ax21.grid()\n",
    "\n",
    "ax22.set_xlabel('Distance (km)')\n",
    "ax22.set_ylabel('Surface Speed (m/yr)')\n",
    "ax22.grid()\n"
   ]
  },
  {
   "cell_type": "code",
   "execution_count": null,
   "metadata": {},
   "outputs": [],
   "source": [
    "modelTime=-5000\n",
    "timeLevel = (abs(modelTime-modelOutput['time']) == np.min(np.abs(modelTime-modelOutput['time'])))"
   ]
  },
  {
   "cell_type": "code",
   "execution_count": null,
   "metadata": {},
   "outputs": [],
   "source": [
    "res = [i for i, val in enumerate(timeLevel) if val] "
   ]
  },
  {
   "cell_type": "code",
   "execution_count": null,
   "metadata": {},
   "outputs": [],
   "source": [
    "res"
   ]
  },
  {
   "cell_type": "code",
   "execution_count": null,
   "metadata": {},
   "outputs": [],
   "source": []
  }
 ],
 "metadata": {
  "kernelspec": {
   "display_name": "Python 3",
   "language": "python",
   "name": "python3"
  },
  "language_info": {
   "codemirror_mode": {
    "name": "ipython",
    "version": 3
   },
   "file_extension": ".py",
   "mimetype": "text/x-python",
   "name": "python",
   "nbconvert_exporter": "python",
   "pygments_lexer": "ipython3",
   "version": "3.7.4"
  }
 },
 "nbformat": 4,
 "nbformat_minor": 2
}
